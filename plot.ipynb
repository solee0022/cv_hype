{
  "nbformat": 4,
  "nbformat_minor": 0,
  "metadata": {
    "colab": {
      "name": "wip.ipynb",
      "provenance": [],
      "collapsed_sections": []
    },
    "kernelspec": {
      "display_name": "Python 3",
      "name": "python3"
    },
    "language_info": {
      "name": "python"
    }
  },
  "cells": [
    {
      "cell_type": "markdown",
      "metadata": {
        "id": "eccZKF8mE-62"
      },
      "source": [
        "### load"
      ]
    },
    {
      "cell_type": "code",
      "metadata": {
        "id": "oM1TcbVHjO4E"
      },
      "source": [
        "!ls"
      ],
      "execution_count": null,
      "outputs": []
    },
    {
      "cell_type": "code",
      "metadata": {
        "id": "gwp6I-ji-hB5"
      },
      "source": [
        "!wget http://ai.stanford.edu/~jkrause/car196/car_ims.tgz\n",
        "!wget http://ai.stanford.edu/~jkrause/car196/cars_annos.mat\n",
        "!tar zxf car_ims.tgz\n",
        "!mkdir cars196 && mv cars_annos.mat cars196 && mv car_ims/ cars196"
      ],
      "execution_count": null,
      "outputs": []
    },
    {
      "cell_type": "code",
      "metadata": {
        "id": "fmgt6EuH6EAB"
      },
      "source": [
        "!wget http://www.vision.caltech.edu/visipedia-data/CUB-200-2011/CUB_200_2011.tgz\n",
        "!tar zxf CUB_200_2011.tgz"
      ],
      "execution_count": null,
      "outputs": []
    },
    {
      "cell_type": "code",
      "metadata": {
        "id": "2B8R--oPnaZ3"
      },
      "source": [
        "!pip install -q pytorch-metric-learning\n",
        "!git clone -q https://github.com/tjddus9597/Proxy-Anchor-CVPR2020.git\n",
        "!mv Proxy-Anchor-CVPR2020/code proxy_anchor\n",
        "!sed -i 's/^import losses$/from . import losses/' proxy_anchor/utils.py"
      ],
      "execution_count": null,
      "outputs": []
    },
    {
      "cell_type": "code",
      "metadata": {
        "id": "iIUFRWx6kDfJ"
      },
      "source": [
        "from proxy_anchor.dataset import CUBirds, Cars"
      ],
      "execution_count": null,
      "outputs": []
    },
    {
      "cell_type": "code",
      "metadata": {
        "colab": {
          "base_uri": "https://localhost:8080/"
        },
        "id": "nwmUFsvFo8Bo",
        "outputId": "490f1df5-35fa-4708-df85-1b57522ac7cb"
      },
      "source": [
        "len(CUBirds(\"/content\", \"train\")), len(CUBirds(\"/content\", \"eval\"))"
      ],
      "execution_count": null,
      "outputs": [
        {
          "output_type": "execute_result",
          "data": {
            "text/plain": [
              "(5864, 5924)"
            ]
          },
          "metadata": {},
          "execution_count": 7
        }
      ]
    },
    {
      "cell_type": "code",
      "metadata": {
        "colab": {
          "base_uri": "https://localhost:8080/"
        },
        "id": "XoGZ2bpg_4bs",
        "outputId": "15e1520a-c770-455d-9b4f-685569b312b9"
      },
      "source": [
        "len(Cars(\"/content\", \"train\")), len(Cars(\"/content\", \"eval\"))"
      ],
      "execution_count": null,
      "outputs": [
        {
          "output_type": "execute_result",
          "data": {
            "text/plain": [
              "(8054, 8131)"
            ]
          },
          "metadata": {},
          "execution_count": 67
        }
      ]
    },
    {
      "cell_type": "code",
      "metadata": {
        "id": "8RAzfAX0PRBo"
      },
      "source": [
        "!pip install -q umap-learn"
      ],
      "execution_count": null,
      "outputs": []
    },
    {
      "cell_type": "code",
      "metadata": {
        "id": "dxZUDMLxPjmU"
      },
      "source": [
        "!git clone -q https://github.com/tilt/RasterFairy.git\n",
        "!cd RasterFairy && pip install -q ."
      ],
      "execution_count": null,
      "outputs": []
    },
    {
      "cell_type": "code",
      "metadata": {
        "id": "TLEHU2Ver2WD"
      },
      "source": [
        "import torch\n",
        "import torch.optim as optim\n",
        "import torch.nn as nn\n",
        "import torch.nn.functional as F\n",
        "import torchvision.transforms as transforms\n",
        "from torchvision import utils\n",
        "from torch.utils.data import DataLoader\n",
        "\n",
        "from sklearn.manifold import TSNE\n",
        "import matplotlib.pyplot as plt\n",
        "from matplotlib.offsetbox import OffsetImage, AnnotationBbox\n",
        "import numpy as np\n",
        "import random\n",
        "import umap\n",
        "import rasterfairy\n",
        "import PIL"
      ],
      "execution_count": null,
      "outputs": []
    },
    {
      "cell_type": "markdown",
      "metadata": {
        "id": "Gr8twaBn3DS9"
      },
      "source": [
        "### plot"
      ]
    },
    {
      "cell_type": "code",
      "metadata": {
        "colab": {
          "base_uri": "https://localhost:8080/"
        },
        "id": "G8DJKTOC7P3I",
        "outputId": "ca092f5c-dc9d-42f1-de63-e70c81f125e0"
      },
      "source": [
        "emb_full = torch.load(\"cars_dino_eval.pt\")\n",
        "len(emb_full[0])"
      ],
      "execution_count": null,
      "outputs": [
        {
          "output_type": "execute_result",
          "data": {
            "text/plain": [
              "8131"
            ]
          },
          "metadata": {},
          "execution_count": 68
        }
      ]
    },
    {
      "cell_type": "code",
      "metadata": {
        "id": "F6XLtAcl9Dkc"
      },
      "source": [
        "num_samples = 4000\n",
        "ds_x, ds_y = emb_full[0][:num_samples], emb_full[1][:num_samples]"
      ],
      "execution_count": null,
      "outputs": []
    },
    {
      "cell_type": "code",
      "metadata": {
        "id": "RlmFkuwKl-os"
      },
      "source": [
        "mapper = umap.UMAP(output_metric=\"hyperboloid\", random_state=1337)\n",
        "path2d = mapper.fit_transform(ds_x)\n",
        "x, y = path2d[:, 0], path2d[:, 1]\n",
        "z = (1 + x ** 2 + y ** 2) ** 0.5\n",
        "disk_x = x / (1 + z)\n",
        "disk_y = y / (1 + z)"
      ],
      "execution_count": null,
      "outputs": []
    },
    {
      "cell_type": "code",
      "metadata": {
        "id": "5h4b1dcHGEnP"
      },
      "source": [
        "fig = plt.figure(figsize=(10, 10), clear=True)\n",
        "ax = fig.add_subplot(111)\n",
        "scatter = ax.scatter(disk_x, disk_y, c=ds_y, alpha=.75, s=7)\n",
        "\n",
        "boundary = plt.Circle((0, 0), 1, fc=\"none\", ec=\"k\")\n",
        "ax.add_patch(boundary)\n",
        "ax.axis(\"off\")\n",
        "plt.show()"
      ],
      "execution_count": null,
      "outputs": []
    },
    {
      "cell_type": "code",
      "metadata": {
        "id": "1Gf0XqYXZeEb"
      },
      "source": [
        ""
      ],
      "execution_count": null,
      "outputs": []
    },
    {
      "cell_type": "code",
      "metadata": {
        "id": "9qn6Mtx4aaSS"
      },
      "source": [
        "xy = np.stack([disk_x, disk_y], axis=1)\n",
        "grid_xy = rasterfairy.transformPointCloud2D(xy)"
      ],
      "execution_count": null,
      "outputs": []
    },
    {
      "cell_type": "code",
      "metadata": {
        "colab": {
          "base_uri": "https://localhost:8080/"
        },
        "id": "qnLtyqD1MSDy",
        "outputId": "628f1112-47f3-4f9d-f01e-586d9b0af58f"
      },
      "source": [
        "grid_w, grid_h = grid_xy[1]\n",
        "grid_w, grid_h"
      ],
      "execution_count": null,
      "outputs": [
        {
          "output_type": "execute_result",
          "data": {
            "text/plain": [
              "(50, 80)"
            ]
          },
          "metadata": {},
          "execution_count": 73
        }
      ]
    },
    {
      "cell_type": "code",
      "metadata": {
        "id": "LKriYwziqAbg"
      },
      "source": [
        "img_size = 50\n",
        "ds_view = Cars(\"/content\", \"eval\",\n",
        "    transforms.Compose([transforms.Resize(img_size), transforms.CenterCrop(img_size)]))"
      ],
      "execution_count": null,
      "outputs": []
    },
    {
      "cell_type": "code",
      "metadata": {
        "id": "lABiLinVJx3N"
      },
      "source": [
        "background = PIL.Image.new('RGB',(grid_w * img_size, grid_h * img_size), (255, 255, 255))\n",
        "for i in range(len(grid_xy[0])):\n",
        "    x, y = grid_xy[0][i]\n",
        "    background.paste(ds_view[i][0], (int(x * img_size), int(y * img_size)))"
      ],
      "execution_count": null,
      "outputs": []
    },
    {
      "cell_type": "code",
      "metadata": {
        "id": "bnyA_ElEJ4tO"
      },
      "source": [
        "background.save(\"cars_eval.jpg\", \"JPEG\", quality=90, optimize=True)"
      ],
      "execution_count": null,
      "outputs": []
    }
  ]
}